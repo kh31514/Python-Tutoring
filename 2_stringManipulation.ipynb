{
  "nbformat": 4,
  "nbformat_minor": 0,
  "metadata": {
    "colab": {
      "provenance": [],
      "authorship_tag": "ABX9TyMu6GRU8I6oVkX8T1CNQ1LV",
      "include_colab_link": true
    },
    "kernelspec": {
      "name": "python3",
      "display_name": "Python 3"
    },
    "language_info": {
      "name": "python"
    }
  },
  "cells": [
    {
      "cell_type": "markdown",
      "metadata": {
        "id": "view-in-github",
        "colab_type": "text"
      },
      "source": [
        "<a href=\"https://colab.research.google.com/github/kh31514/Python-Tutoring/blob/main/2_stringManipulation.ipynb\" target=\"_parent\"><img src=\"https://colab.research.google.com/assets/colab-badge.svg\" alt=\"Open In Colab\"/></a>"
      ]
    },
    {
      "cell_type": "markdown",
      "source": [
        "# Silly Strings 🤪\n",
        "\n",
        "Let's *manipulate* (change) some strings!"
      ],
      "metadata": {
        "id": "pdC3xyRb5_CP"
      }
    },
    {
      "cell_type": "markdown",
      "source": [
        "# Substrings\n",
        "\n",
        "A piece of a string is called a *substring*. We can cut out pieces of a string using bracket notation."
      ],
      "metadata": {
        "id": "iPTgvhZT88n7"
      }
    },
    {
      "cell_type": "code",
      "execution_count": null,
      "metadata": {
        "colab": {
          "base_uri": "https://localhost:8080/"
        },
        "id": "f7wqdqbPJrB3",
        "outputId": "6596af0c-7300-4998-8fa0-e9adbd48315f"
      },
      "outputs": [
        {
          "output_type": "stream",
          "name": "stdout",
          "text": [
            "Hello\n"
          ]
        }
      ],
      "source": [
        "s = \"Hello World\"\n",
        "print(s[0:5])"
      ]
    },
    {
      "cell_type": "markdown",
      "source": [
        "`s[0:5]` specifies that we want the first five characters of the string `s`.\n",
        "\n",
        "`0` is called the *starting index*, and `5` is called the *ending index*. We include the character at the starting index, but we do NOT include the character at the ending index.\n",
        "\n",
        "Note that we start at the 0th index instead of the 1st index!\n",
        "\n",
        "![picture](https://iq.opengenus.org/content/images/2020/10/Index.png)\n",
        "\n",
        "We can also count backwards. The character at index 10 is the same as the character at index -1."
      ],
      "metadata": {
        "id": "JXt4kP3U9XqV"
      }
    },
    {
      "cell_type": "code",
      "source": [
        "print(s[10])\n",
        "print(s[-1])"
      ],
      "metadata": {
        "colab": {
          "base_uri": "https://localhost:8080/"
        },
        "id": "pd8oJWNV_n6j",
        "outputId": "0fec9b3d-df56-48c4-87fd-c5ad1b25a392"
      },
      "execution_count": null,
      "outputs": [
        {
          "output_type": "stream",
          "name": "stdout",
          "text": [
            "d\n",
            "d\n"
          ]
        }
      ]
    },
    {
      "cell_type": "markdown",
      "source": [
        "Strings are *immutable* (unchangeable). The substring operation we performed above does not affect the original string."
      ],
      "metadata": {
        "id": "IVcdxNfx954a"
      }
    },
    {
      "cell_type": "code",
      "source": [
        "print(s)"
      ],
      "metadata": {
        "colab": {
          "base_uri": "https://localhost:8080/"
        },
        "id": "9dG_PJXS9mI_",
        "outputId": "9f8a0987-8201-438f-af77-0e9b79e92c87"
      },
      "execution_count": null,
      "outputs": [
        {
          "output_type": "stream",
          "name": "stdout",
          "text": [
            "Hello World\n"
          ]
        }
      ]
    },
    {
      "cell_type": "markdown",
      "source": [
        "## Practice 👨‍💻\n",
        "\n",
        "How would we print the substring `\"World\"`?"
      ],
      "metadata": {
        "id": "N4Bbr1mZ-eZG"
      }
    },
    {
      "cell_type": "code",
      "source": [
        "# Write your code below\n",
        "\n"
      ],
      "metadata": {
        "id": "riUHQleO_2wd"
      },
      "execution_count": null,
      "outputs": []
    },
    {
      "cell_type": "markdown",
      "source": [
        "Another fun trick is that we can skip over every other character."
      ],
      "metadata": {
        "id": "pZKpibkQAM5x"
      }
    },
    {
      "cell_type": "code",
      "source": [
        "print(s[0:11:2])"
      ],
      "metadata": {
        "colab": {
          "base_uri": "https://localhost:8080/"
        },
        "id": "kFN-YoIiAVSS",
        "outputId": "df9c0a1a-7ee7-497a-fb32-bcb7b9a27fc7"
      },
      "execution_count": null,
      "outputs": [
        {
          "output_type": "stream",
          "name": "stdout",
          "text": [
            "HloWrd\n"
          ]
        }
      ]
    },
    {
      "cell_type": "markdown",
      "source": [
        "In this case we are printing indices 0, 2, 4, 6, 8, and 10.\n",
        "\n",
        "Note that even though `\"Hello World\"` ends at index 10, I write the ending index as 11. This is because we don't include the last index. Look what would happen if I wrote 10 instead of 11.\n",
        "\n"
      ],
      "metadata": {
        "id": "jufDxEPqAc6A"
      }
    },
    {
      "cell_type": "code",
      "source": [
        "print(s[0:10:2])"
      ],
      "metadata": {
        "colab": {
          "base_uri": "https://localhost:8080/"
        },
        "id": "WmGhoIjjBW15",
        "outputId": "2bc44f01-cbf5-49cd-c645-40e81b6e88eb"
      },
      "execution_count": null,
      "outputs": [
        {
          "output_type": "stream",
          "name": "stdout",
          "text": [
            "HloWr\n"
          ]
        }
      ]
    },
    {
      "cell_type": "markdown",
      "source": [
        "The last `\"d\"` is cut off because we're now only looking at indices 0, 2, 4, 6, and 8."
      ],
      "metadata": {
        "id": "fpD05_FkBZyr"
      }
    },
    {
      "cell_type": "markdown",
      "source": [
        "## Practice 👨‍💻\n",
        "\n",
        "How would we print every third letter?"
      ],
      "metadata": {
        "id": "57ad_IBHA2uz"
      }
    },
    {
      "cell_type": "code",
      "source": [
        "# Write your code below\n",
        "\n"
      ],
      "metadata": {
        "id": "Yg9MQsYlA8Fq"
      },
      "execution_count": null,
      "outputs": []
    },
    {
      "cell_type": "markdown",
      "source": [
        "# String Length\n",
        "\n",
        "We can get the length of our string using the following method. Spaces count towards string length!"
      ],
      "metadata": {
        "id": "fzBw4caoDCn2"
      }
    },
    {
      "cell_type": "code",
      "source": [
        "s = \"Hello World\"\n",
        "print(len(s))"
      ],
      "metadata": {
        "colab": {
          "base_uri": "https://localhost:8080/"
        },
        "id": "hAXXHBdVDJaG",
        "outputId": "3e2d36b5-3e8c-43c2-ef97-14a023616ebb"
      },
      "execution_count": null,
      "outputs": [
        {
          "output_type": "stream",
          "name": "stdout",
          "text": [
            "11\n"
          ]
        }
      ]
    },
    {
      "cell_type": "markdown",
      "source": [
        "Notice that the last index of the string is always the length of the string minus 1."
      ],
      "metadata": {
        "id": "AY1u95aDDpk7"
      }
    },
    {
      "cell_type": "code",
      "source": [
        "print(s[6:11])\n",
        "# is the same as\n",
        "print(s[6:len(s)])"
      ],
      "metadata": {
        "colab": {
          "base_uri": "https://localhost:8080/"
        },
        "id": "Fa-RRpAzDxVy",
        "outputId": "196cb7fb-be28-445b-c300-26b6e0d82394"
      },
      "execution_count": null,
      "outputs": [
        {
          "output_type": "stream",
          "name": "stdout",
          "text": [
            "World\n",
            "World\n"
          ]
        }
      ]
    },
    {
      "cell_type": "markdown",
      "source": [
        "In the special case that we want to start at the beginning or end at the ending of the string, we can use this shortcut."
      ],
      "metadata": {
        "id": "oLNXx01oETS2"
      }
    },
    {
      "cell_type": "code",
      "source": [
        "print(s[:5])\n",
        "print(s[6:])"
      ],
      "metadata": {
        "colab": {
          "base_uri": "https://localhost:8080/"
        },
        "id": "c3B9Ioy4Eftw",
        "outputId": "7e8d6d49-7ccf-4d35-9294-d035d95513cf"
      },
      "execution_count": null,
      "outputs": [
        {
          "output_type": "stream",
          "name": "stdout",
          "text": [
            "Hello\n",
            "World\n"
          ]
        }
      ]
    },
    {
      "cell_type": "markdown",
      "source": [
        "By default, if I don't specify the starting index, the substring will begin at the beginning (index 0).\n",
        "\n",
        "By default, if I don't specify the ending index, the substring will end at the ending (index len(s))."
      ],
      "metadata": {
        "id": "4bzemYUQEo-V"
      }
    },
    {
      "cell_type": "markdown",
      "source": [
        "# Capitalization\n",
        "\n",
        "We can change strings from upper case to lower case using a few easy tricks."
      ],
      "metadata": {
        "id": "unHmERc7BsQK"
      }
    },
    {
      "cell_type": "code",
      "source": [
        "s = \"Combat Robotics @ Cornell\"\n",
        "print(s.upper())\n",
        "print(s.lower())\n",
        "\n",
        "s1 = \"hello! My name is Katie.\"\n",
        "print(s1.capitalize()) # capitalizes the first word of the string and makes the rest lowercase\n",
        "print(s1.lower().upper())"
      ],
      "metadata": {
        "colab": {
          "base_uri": "https://localhost:8080/"
        },
        "id": "FSr6wYwmB3md",
        "outputId": "c455115c-0718-4288-b225-c6e32409b229"
      },
      "execution_count": null,
      "outputs": [
        {
          "output_type": "stream",
          "name": "stdout",
          "text": [
            "COMBAT ROBOTICS @ CORNELL\n",
            "combat robotics @ cornell\n",
            "Hello! my name is katie.\n",
            "HELLO! MY NAME IS KATIE.\n"
          ]
        }
      ]
    },
    {
      "cell_type": "markdown",
      "source": [
        "What happened in that last example?\n",
        "\n",
        "We work from inside out (left to right), so first we made the string all lower case (`\"hello! my name is katie.\"`). Afterwards we made that string all uppercase."
      ],
      "metadata": {
        "id": "-iDI9_lgDPMV"
      }
    },
    {
      "cell_type": "markdown",
      "source": [
        "# Finding Characters\n",
        "\n",
        "The following method finds the first instance of a string or character within a string."
      ],
      "metadata": {
        "id": "WodmI3XkFVsR"
      }
    },
    {
      "cell_type": "code",
      "source": [
        "s = \"Katie\"\n",
        "print(s.find('a'))\n",
        "print(s.find('tie'))"
      ],
      "metadata": {
        "colab": {
          "base_uri": "https://localhost:8080/"
        },
        "id": "vrfaf_FBCHjC",
        "outputId": "e7061ef0-d892-48bb-c989-b287926302c0"
      },
      "execution_count": null,
      "outputs": [
        {
          "output_type": "stream",
          "name": "stdout",
          "text": [
            "1\n",
            "2\n"
          ]
        }
      ]
    },
    {
      "cell_type": "markdown",
      "source": [
        "If there is no such string or character in the string, then we get -1."
      ],
      "metadata": {
        "id": "hyyXJqSwCyTY"
      }
    },
    {
      "cell_type": "code",
      "source": [
        "s = \"Katie\"\n",
        "print(s.find(\"z\"))"
      ],
      "metadata": {
        "colab": {
          "base_uri": "https://localhost:8080/"
        },
        "id": "ualyOSAZC5AN",
        "outputId": "6d00239e-562d-4dbd-eaf4-33ef426492d6"
      },
      "execution_count": null,
      "outputs": [
        {
          "output_type": "stream",
          "name": "stdout",
          "text": [
            "-1\n"
          ]
        }
      ]
    },
    {
      "cell_type": "markdown",
      "source": [
        "This method is case-sensitive!"
      ],
      "metadata": {
        "id": "fSI1k9ZVE6Re"
      }
    },
    {
      "cell_type": "code",
      "source": [
        "s = \"Katie\"\n",
        "print(s.find(\"k\"))"
      ],
      "metadata": {
        "colab": {
          "base_uri": "https://localhost:8080/"
        },
        "id": "rkJBKFTyE80q",
        "outputId": "6cfc9a75-988f-41e3-930b-0f98e737a604"
      },
      "execution_count": null,
      "outputs": [
        {
          "output_type": "stream",
          "name": "stdout",
          "text": [
            "-1\n"
          ]
        }
      ]
    },
    {
      "cell_type": "markdown",
      "source": [
        "# Practice 👨‍💻\n",
        "\n",
        "Find the index of `\"World\"` in the following string, `s`, and replace it with your name."
      ],
      "metadata": {
        "id": "ITbruGhiBy4A"
      }
    },
    {
      "cell_type": "code",
      "source": [
        "s = \"Hello World\"\n",
        "# Write your code below\n",
        "\n"
      ],
      "metadata": {
        "id": "Cx7N_MbpCfLN"
      },
      "execution_count": null,
      "outputs": []
    },
    {
      "cell_type": "markdown",
      "source": [
        "# Counting Characters\n",
        "\n",
        "We can use the following method to count the number of occurances of a string or character within a string."
      ],
      "metadata": {
        "id": "7CxYwbPsFX6o"
      }
    },
    {
      "cell_type": "code",
      "source": [
        "s = \"Coding is cool\"\n",
        "print(s.count(\"o\"))"
      ],
      "metadata": {
        "colab": {
          "base_uri": "https://localhost:8080/"
        },
        "id": "1qSwKancDryq",
        "outputId": "8f823242-6c21-469e-98a4-778b584413db"
      },
      "execution_count": null,
      "outputs": [
        {
          "output_type": "stream",
          "name": "stdout",
          "text": [
            "3\n"
          ]
        }
      ]
    },
    {
      "cell_type": "markdown",
      "source": [
        "This method is case-sensitive!"
      ],
      "metadata": {
        "id": "PbPWCRDBD1X9"
      }
    },
    {
      "cell_type": "code",
      "source": [
        "s = \"Coding is cool\"\n",
        "print(s.count(\"O\"))\n",
        "print(s.count(\"c\"))"
      ],
      "metadata": {
        "colab": {
          "base_uri": "https://localhost:8080/"
        },
        "id": "Eo4ZRJLaD8BW",
        "outputId": "7c524659-3cdc-4bf6-cd3f-9ded9e05c8e1"
      },
      "execution_count": null,
      "outputs": [
        {
          "output_type": "stream",
          "name": "stdout",
          "text": [
            "0\n",
            "1\n"
          ]
        }
      ]
    }
  ]
}