{
  "nbformat": 4,
  "nbformat_minor": 0,
  "metadata": {
    "colab": {
      "provenance": [],
      "authorship_tag": "ABX9TyO6WWFtGeeFb8hjhA7rQBtY",
      "include_colab_link": true
    },
    "kernelspec": {
      "name": "python3",
      "display_name": "Python 3"
    },
    "language_info": {
      "name": "python"
    }
  },
  "cells": [
    {
      "cell_type": "markdown",
      "metadata": {
        "id": "view-in-github",
        "colab_type": "text"
      },
      "source": [
        "<a href=\"https://colab.research.google.com/github/kh31514/Python-Tutoring/blob/madeleine/3_conditionals.ipynb\" target=\"_parent\"><img src=\"https://colab.research.google.com/assets/colab-badge.svg\" alt=\"Open In Colab\"/></a>"
      ]
    },
    {
      "cell_type": "markdown",
      "source": [
        "# Conditionals\n",
        "\n",
        "Let's handle different cases/inputs!"
      ],
      "metadata": {
        "id": "l-7wjQh9FOuj"
      }
    },
    {
      "cell_type": "markdown",
      "source": [
        "# Conditionals in Real Life\n",
        "\n",
        "* If it's over 70 degrees we'll want to wear a t-shirt, otherwise we'll want to wear a jacket.\n",
        "* If it's late, I'll want to sleep, otherwise I'll want to play.\n",
        "* If I'm hungry, I'll want to eat.\n",
        "* If the door is locked, we'll need a key."
      ],
      "metadata": {
        "id": "9xaienHqJNDy"
      }
    },
    {
      "cell_type": "markdown",
      "source": [
        "What do conditionals look like in code?\n",
        "\n",
        "Let's look at the first example, if it's over 70 degrees we'll want to wear a t-shirt, otherwise we'll want to wear a jacket."
      ],
      "metadata": {
        "id": "rQy_4ez1J4jM"
      }
    },
    {
      "cell_type": "code",
      "source": [
        "temp = 60\n",
        "if (temp > 70):\n",
        "  print(\"Wear a t-shirt\")\n",
        "else:\n",
        "  print(\"Wear a jacket\")"
      ],
      "metadata": {
        "colab": {
          "base_uri": "https://localhost:8080/"
        },
        "id": "LiO3LyiWKDNR",
        "outputId": "c7b137d4-7beb-4d94-d1f2-2c7109d2e2fd"
      },
      "execution_count": 1,
      "outputs": [
        {
          "output_type": "stream",
          "name": "stdout",
          "text": [
            "Wear a jacket\n"
          ]
        }
      ]
    },
    {
      "cell_type": "markdown",
      "source": [
        "Let's break down the syntax:\n",
        "\n",
        "We use the keyword `if` then a conditional (something that evaluates to a boolean). We then use a `:` and offset our code-block by one tab. We use the keyword `else` to hand the otherwise case.\n",
        "\n",
        "Indentation is super important in Python! Look what happens if we don't indent properly 😵‍💫"
      ],
      "metadata": {
        "id": "w_jtW5-EKPoG"
      }
    },
    {
      "cell_type": "code",
      "source": [
        "temp = 75\n",
        "if (temp > 70):\n",
        "print(\"Wear a t-shirt\")\n",
        "else:\n",
        "print(\"Wear a jacket\")"
      ],
      "metadata": {
        "id": "ssDEnrMtLAic",
        "outputId": "29415b22-3762-4613-ebb9-22f1f8eb5f6b",
        "colab": {
          "base_uri": "https://localhost:8080/",
          "height": 131
        }
      },
      "execution_count": 2,
      "outputs": [
        {
          "output_type": "error",
          "ename": "IndentationError",
          "evalue": "ignored",
          "traceback": [
            "\u001b[0;36m  File \u001b[0;32m\"<ipython-input-2-ab702ca05433>\"\u001b[0;36m, line \u001b[0;32m3\u001b[0m\n\u001b[0;31m    print(\"Wear a t-shirt\")\u001b[0m\n\u001b[0m    ^\u001b[0m\n\u001b[0;31mIndentationError\u001b[0m\u001b[0;31m:\u001b[0m expected an indented block after 'if' statement on line 2\n"
          ]
        }
      ]
    },
    {
      "cell_type": "markdown",
      "source": [
        "What if we have more than 2 cases?\n",
        "\n",
        "Maybe if the temperature is below 30 degrees, we'll want to wear a heavy coat. Let's see what that looks like in code."
      ],
      "metadata": {
        "id": "-ns5dv2iLKgv"
      }
    },
    {
      "cell_type": "code",
      "source": [
        "temp = 20\n",
        "if (temp > 70):\n",
        "  print(\"Wear a t-shirt\")\n",
        "elif (temp > 30):\n",
        "  print(\"Wear a jacket\")\n",
        "else:\n",
        "  print(\"Wear a heavy coat\")"
      ],
      "metadata": {
        "colab": {
          "base_uri": "https://localhost:8080/"
        },
        "id": "zG5IIM51Lqai",
        "outputId": "81727c7c-fbdf-4918-cea8-4bceb5160a7a"
      },
      "execution_count": null,
      "outputs": [
        {
          "output_type": "stream",
          "name": "stdout",
          "text": [
            "Wear a heavy coat\n"
          ]
        }
      ]
    },
    {
      "cell_type": "code",
      "source": [
        "num = 10\n",
        "s = \"he\"\n",
        "\n",
        "if (num == 10):\n",
        "  print(\"do something\")\n",
        "\n",
        "if (s == \"hello\"):\n",
        "  print(\"do something else\")\n",
        "else:\n",
        "  print(\"do another thing\")"
      ],
      "metadata": {
        "id": "X1JOR8Tn1qEv",
        "outputId": "2d774665-f534-4c4e-ff33-c4e3d9ed8faa",
        "colab": {
          "base_uri": "https://localhost:8080/"
        }
      },
      "execution_count": 4,
      "outputs": [
        {
          "output_type": "stream",
          "name": "stdout",
          "text": [
            "do something\n",
            "do another thing\n"
          ]
        }
      ]
    },
    {
      "cell_type": "markdown",
      "source": [
        "`elif` stands for else if.\n",
        "\n",
        "We evaluate the statements from top to bottom, and execute the first code-block where the condition is true.\n",
        "\n",
        "The following code segment is *NOT* equivalent."
      ],
      "metadata": {
        "id": "zuAM0GrZMI2r"
      }
    },
    {
      "cell_type": "code",
      "source": [
        "temp = 75\n",
        "\n",
        "if (temp > 70):\n",
        "  print(\"Wear a t-shirt\")\n",
        "\n",
        "if (temp > 30):\n",
        "  print(\"Wear a jacket\")\n",
        "else:\n",
        "  print(\"Wear a heavy coat\")"
      ],
      "metadata": {
        "colab": {
          "base_uri": "https://localhost:8080/"
        },
        "id": "ovO54ErxMiQm",
        "outputId": "1a90c520-4de7-44e3-8e6b-ce27c954156a"
      },
      "execution_count": null,
      "outputs": [
        {
          "output_type": "stream",
          "name": "stdout",
          "text": [
            "Wear a t-shirt\n",
            "Wear a jacket\n"
          ]
        }
      ]
    },
    {
      "cell_type": "markdown",
      "source": [
        "# Comparison Operators\n",
        "\n",
        "We can use the following symbols to compare data. All of these operations return a boolean (`True` or `False`)."
      ],
      "metadata": {
        "id": "imAol6fTO_jR"
      }
    },
    {
      "cell_type": "code",
      "source": [
        "a = 1\n",
        "b = 2\n",
        "\n",
        "a == b # equality operator\n",
        "a != b # inequality operator\n",
        "a < b # less than\n",
        "a > b # greater than\n",
        "a <= b # less than or equal to\n",
        "a >= b # greater than or equal to"
      ],
      "metadata": {
        "colab": {
          "base_uri": "https://localhost:8080/"
        },
        "id": "h1i2OQrpPR3n",
        "outputId": "680bc174-cc23-4b3b-c2f0-1b5025f38a09"
      },
      "execution_count": null,
      "outputs": [
        {
          "output_type": "execute_result",
          "data": {
            "text/plain": [
              "False"
            ]
          },
          "metadata": {},
          "execution_count": 9
        }
      ]
    },
    {
      "cell_type": "markdown",
      "source": [
        "Don't forget our boolean operators!\n",
        "\n",
        "What is we want to check that a number is greater than 0 but less than 10?"
      ],
      "metadata": {
        "id": "SCOkXPz7P7aW"
      }
    },
    {
      "cell_type": "code",
      "source": [
        "num = 9\n",
        "num > 0 and num < 10"
      ],
      "metadata": {
        "id": "1uCfFbp9QOPE",
        "outputId": "c11516b2-1b82-45cd-f173-8f1e82cbee79",
        "colab": {
          "base_uri": "https://localhost:8080/"
        }
      },
      "execution_count": 7,
      "outputs": [
        {
          "output_type": "execute_result",
          "data": {
            "text/plain": [
              "True"
            ]
          },
          "metadata": {},
          "execution_count": 7
        }
      ]
    },
    {
      "cell_type": "markdown",
      "source": [
        "# Order of Operations\n",
        "\n",
        "1. Parenthesis `()`\n",
        "2. Exponents `**`\n",
        "3. Multiplication `*`, Division `/ //`, and Modulus `%`\n",
        "4. Addition `+` and Subtraction `-`\n",
        "5. Comparision `< <= > >= == !=`\n",
        "6. Not\n",
        "7. And\n",
        "8. Or\n"
      ],
      "metadata": {
        "id": "5u6pubFvjJFt"
      }
    },
    {
      "cell_type": "markdown",
      "source": [
        "# Practice 👨‍💻\n",
        "\n",
        "What will the following code print?"
      ],
      "metadata": {
        "id": "w1EjlAy6kJgq"
      }
    },
    {
      "cell_type": "code",
      "source": [
        "(3 + 4) - 2 > 4 * 1"
      ],
      "metadata": {
        "id": "72L95uCmkRYs",
        "outputId": "3ac8c4f7-4342-4649-a1e2-8668b6a8584c",
        "colab": {
          "base_uri": "https://localhost:8080/"
        }
      },
      "execution_count": 8,
      "outputs": [
        {
          "output_type": "execute_result",
          "data": {
            "text/plain": [
              "True"
            ]
          },
          "metadata": {},
          "execution_count": 8
        }
      ]
    },
    {
      "cell_type": "code",
      "source": [
        "True and False or True"
      ],
      "metadata": {
        "id": "zkCpbpOEkUtV",
        "outputId": "c18a3546-f1f6-4492-ec33-e603d7e25f28",
        "colab": {
          "base_uri": "https://localhost:8080/"
        }
      },
      "execution_count": 9,
      "outputs": [
        {
          "output_type": "execute_result",
          "data": {
            "text/plain": [
              "True"
            ]
          },
          "metadata": {},
          "execution_count": 9
        }
      ]
    },
    {
      "cell_type": "code",
      "source": [
        "not (False and False) or (not False)"
      ],
      "metadata": {
        "id": "nGACAIA836cG",
        "outputId": "64d876dd-bcb6-48fb-db92-eaef586bbbfd",
        "colab": {
          "base_uri": "https://localhost:8080/"
        }
      },
      "execution_count": 10,
      "outputs": [
        {
          "output_type": "execute_result",
          "data": {
            "text/plain": [
              "True"
            ]
          },
          "metadata": {},
          "execution_count": 10
        }
      ]
    },
    {
      "cell_type": "code",
      "source": [
        "not 3 / 2 == 3 // 2"
      ],
      "metadata": {
        "id": "5Bkqz-GDkrMe",
        "outputId": "33a4dee9-3ea9-4e64-edee-3e9f5502029d",
        "colab": {
          "base_uri": "https://localhost:8080/"
        }
      },
      "execution_count": 11,
      "outputs": [
        {
          "output_type": "execute_result",
          "data": {
            "text/plain": [
              "True"
            ]
          },
          "metadata": {},
          "execution_count": 11
        }
      ]
    },
    {
      "cell_type": "code",
      "source": [
        "\"dog\".capitalize() != \"DOG\" and 4.0 + 2 <= 7\n",
        "# \"dog\".capitalize() != \"DOG\" and 6.0 <= 7\n",
        "# \"dog\".capitalize() != \"DOG\" and True\n",
        "# \"Dog\" != \"DOG\" and True\n",
        "# True and True"
      ],
      "metadata": {
        "id": "uehcr-hZ5BHe",
        "outputId": "a75b0b35-bcab-4e0b-9947-252d32a4ef78",
        "colab": {
          "base_uri": "https://localhost:8080/"
        }
      },
      "execution_count": 12,
      "outputs": [
        {
          "output_type": "execute_result",
          "data": {
            "text/plain": [
              "True"
            ]
          },
          "metadata": {},
          "execution_count": 12
        }
      ]
    },
    {
      "cell_type": "markdown",
      "source": [
        "# Another Code Example\n",
        "\n",
        "Here's how we can see if a number is even or odd!"
      ],
      "metadata": {
        "id": "S-oD8tuN_1wd"
      }
    },
    {
      "cell_type": "code",
      "source": [
        "number = int(input(\"Enter a number: \"))\n",
        "if (number % 2 == 0):\n",
        "  print(\"The number %i is even.\" % number)\n",
        "else:\n",
        "  print(\"The number %i is odd.\" % number)"
      ],
      "metadata": {
        "colab": {
          "base_uri": "https://localhost:8080/"
        },
        "id": "b34wZRO9ABou",
        "outputId": "cad31662-f19f-48f3-9463-e3f5bf384cd0"
      },
      "execution_count": 14,
      "outputs": [
        {
          "output_type": "stream",
          "name": "stdout",
          "text": [
            "Enter a number: 8\n",
            "The number 8 is even.\n"
          ]
        }
      ]
    },
    {
      "cell_type": "markdown",
      "source": [
        "# Practice 👨‍💻\n",
        "\n",
        "1. Ask the user for the weather today.\n",
        "2. If they say that it is sunny, tell them to wear sunscreen.\n",
        "3. If they say that it is rainy, tell them to bring an umbrella.\n",
        "4. If they say that it is snowy, tell them to wear boots."
      ],
      "metadata": {
        "id": "25fxfEnRMr2a"
      }
    },
    {
      "cell_type": "code",
      "source": [
        "# Write your code below\n",
        "\n",
        "weather= input(\"what is the weather today\")\n",
        "if (weather == \"sunny\"):\n",
        "  print(\"Wear sunscreen\")\n",
        "elif (weather == \"rainy\"):\n",
        "  print(\"bring an umbrella\")\n",
        "elif (weather == \"snowy\"):\n",
        "    print(\"wear boots\")\n",
        "else:\n",
        "  print(\"idk\")"
      ],
      "metadata": {
        "id": "7x08g9tuNedA",
        "outputId": "eda5e7e3-463d-439c-9d14-022426f11baf",
        "colab": {
          "base_uri": "https://localhost:8080/"
        }
      },
      "execution_count": 20,
      "outputs": [
        {
          "output_type": "stream",
          "name": "stdout",
          "text": [
            "what is the weather todayhsdfjdgf\n",
            "idk\n"
          ]
        }
      ]
    },
    {
      "cell_type": "markdown",
      "source": [
        "# More Practice 👨‍💻\n",
        "\n",
        "Translate words to pig latin!\n",
        "\n",
        "Anslatetray ordsway otay igpay atinlay.\n",
        "\n",
        "1. Ask the user for a word.\n",
        "2. If the word begins with a vowel, add \"ay\" to the end.\n",
        "3. If the word begins with a consonant, move the consonant to the end of the word and add \"ay.\"\n",
        "\n",
        "Don't worry about words like \"sheep\" or \"trouble\" that begin with 2 consonants."
      ],
      "metadata": {
        "id": "_cbXe5qmNuAE"
      }
    },
    {
      "cell_type": "code",
      "source": [
        "# Write your code below\n",
        "\n"
      ],
      "metadata": {
        "id": "-E-LzJEJOXz_"
      },
      "execution_count": null,
      "outputs": []
    },
    {
      "cell_type": "markdown",
      "source": [
        "# Even More Practice 👨‍💻\n",
        "\n",
        "Repeat this practice from before, except account for nouns that end in sh, ch, and y.\n",
        "\n",
        "1. Ask the user for a noun.\n",
        "2. Make the noun plural and print it."
      ],
      "metadata": {
        "id": "K7QI7nLVsrqG"
      }
    },
    {
      "cell_type": "code",
      "source": [
        "# Write your code below\n",
        "\n"
      ],
      "metadata": {
        "id": "PCyP70I_uSbg"
      },
      "execution_count": null,
      "outputs": []
    },
    {
      "cell_type": "markdown",
      "source": [
        "1. Ask the user for the temperature and temperature scale (Farenheit or Celcius).\n",
        "2. Convert to the other temperature scale.\n",
        "\n",
        "For example if I enter `32` and `\"Farenheit\"`, I should get `0`.\n",
        "\n",
        "\n",
        "If I enter `0` and `Celcius` I should get `32`."
      ],
      "metadata": {
        "id": "xSGSb8uEuVUS"
      }
    },
    {
      "cell_type": "code",
      "source": [
        "# Write your code below\n",
        "\n"
      ],
      "metadata": {
        "id": "pVkFBB5FukAr"
      },
      "execution_count": null,
      "outputs": []
    },
    {
      "cell_type": "markdown",
      "source": [
        "1. Ask the user for 2 numbers and an operation.\n",
        "2. If the user says \"add,\" add the 2 numbers. If the user says \"multiply,\" multiply the two numbers. Do the same thing for subtraction and division."
      ],
      "metadata": {
        "id": "inkg519zvUZw"
      }
    },
    {
      "cell_type": "code",
      "source": [
        "# Write your code below\n",
        "\n"
      ],
      "metadata": {
        "id": "Z8xUjadevims"
      },
      "execution_count": null,
      "outputs": []
    }
  ]
}