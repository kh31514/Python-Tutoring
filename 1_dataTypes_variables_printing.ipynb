{
  "cells": [
    {
      "cell_type": "markdown",
      "metadata": {
        "colab_type": "text",
        "id": "view-in-github"
      },
      "source": [
        "<a href=\"https://colab.research.google.com/github/kh31514/Python-Tutoring/blob/madeleine/1_dataTypes_variables_printing.ipynb\" target=\"_parent\"><img src=\"https://colab.research.google.com/assets/colab-badge.svg\" alt=\"Open In Colab\"/></a>"
      ]
    },
    {
      "cell_type": "markdown",
      "metadata": {
        "id": "9yo__DKnsk5j"
      },
      "source": [
        "# Data Types\n",
        "\n",
        "Data types are types of values\n",
        "\n",
        "Python has 4 basic data types:\n",
        "\n",
        "* Integers\n",
        "* Floats\n",
        "* Strings\n",
        "* Booleans"
      ]
    },
    {
      "cell_type": "markdown",
      "metadata": {
        "id": "kKLZ7nvat1-l"
      },
      "source": [
        "# Integers\n",
        "\n",
        "Integers are numbers without decimals. Integers can be both positive and negative.\n",
        "\n",
        "1, -3, 500000, 0 are all examples of integers."
      ]
    },
    {
      "cell_type": "markdown",
      "metadata": {
        "id": "DkEtPB8g8hhI"
      },
      "source": [
        "## Integer Operations\n",
        "\n",
        "Here are some operations we can perform on integers"
      ]
    },
    {
      "cell_type": "code",
      "execution_count": null,
      "metadata": {
        "colab": {
          "base_uri": "https://localhost:8080/"
        },
        "id": "3AmCcFQX2h0i",
        "outputId": "4176d547-8950-4e80-d0a6-eda704d4fd02"
      },
      "outputs": [
        {
          "data": {
            "text/plain": [
              "8"
            ]
          },
          "execution_count": 8,
          "metadata": {},
          "output_type": "execute_result"
        }
      ],
      "source": [
        "1 + 2  # addition\n",
        "1 - 2  # subtraction\n",
        "1 * 2  # multiplication\n",
        "1 / 2  # float division (x ÷ y with decimal)\n",
        "1 // 2  # integer division (x ÷ y without decimal, rounds down)\n",
        "7 % 3  # modulus (remainder of x ÷ y)\n",
        "2**3  # powers/exponents"
      ]
    },
    {
      "cell_type": "markdown",
      "metadata": {
        "id": "G5DGpSGIt7NU"
      },
      "source": [
        "# Floats\n",
        "\n",
        "Floats are numbers with decimals. Floats can be both positive and negative.\n",
        "\n",
        "1.0, 3.1415, 0.1234 are all examples of floats.\n"
      ]
    },
    {
      "cell_type": "markdown",
      "metadata": {
        "id": "16iC1ogr8m4B"
      },
      "source": [
        "## Float Operations\n",
        "\n",
        "We can perform the same operations on integers and floats!"
      ]
    },
    {
      "cell_type": "code",
      "execution_count": null,
      "metadata": {
        "colab": {
          "base_uri": "https://localhost:8080/"
        },
        "id": "VVLbX_Jo3d8q",
        "outputId": "e9a1bc72-b3ad-439b-fc6a-47bf4fd32d46"
      },
      "outputs": [
        {
          "data": {
            "text/plain": [
              "8.0"
            ]
          },
          "execution_count": 11,
          "metadata": {},
          "output_type": "execute_result"
        }
      ],
      "source": [
        "1.0 + 2.0  # addition\n",
        "1.0 - 2.0  # subtraction\n",
        "1.0 * 2.0  # multiplication\n",
        "1.0 / 2.0  # float division (x ÷ y with decimal)\n",
        "1.0 // 2.0  # integer division (x ÷ y rounds down)\n",
        "1.0 % 2.0  # modulus (remainder of x ÷ y)\n",
        "2.0**3.0  # powers/exponents"
      ]
    },
    {
      "cell_type": "markdown",
      "metadata": {
        "id": "YExVbrJJzmbJ"
      },
      "source": [
        "# Think 🤔\n",
        "\n",
        "When might we want to use integers? When might we want to use floats?\n",
        "\n",
        "Would you use an integer or a float to measure the following things?\n",
        "* Number of pets you have\n",
        "* Cups of chocolate chips you need for a recipe\n",
        "* Shoe size\n",
        "* Number of stuffed animals you own\n",
        "* Age\n",
        "\n",
        "What happens when you add an integer and a float together? What data type is the result? What about other operations?"
      ]
    },
    {
      "cell_type": "code",
      "execution_count": null,
      "metadata": {
        "colab": {
          "base_uri": "https://localhost:8080/"
        },
        "id": "qr1kuKeZ4wJf",
        "outputId": "ac576fe7-2b00-44d6-a057-cdc16dac1fdf"
      },
      "outputs": [
        {
          "data": {
            "text/plain": [
              "2.0"
            ]
          },
          "execution_count": 38,
          "metadata": {},
          "output_type": "execute_result"
        }
      ],
      "source": [
        "1 * 2.0"
      ]
    },
    {
      "cell_type": "markdown",
      "metadata": {
        "id": "RNrlvlrat_vF"
      },
      "source": [
        "# Strings\n",
        "\n",
        "Strings are words. In Python we encolse strings in 'single quotes' or \"double quotes\""
      ]
    },
    {
      "cell_type": "code",
      "execution_count": null,
      "metadata": {
        "id": "s0LmACYVvcro"
      },
      "outputs": [],
      "source": [
        "\"This is an example of a string\"\n",
        "'Hello world!'"
      ]
    },
    {
      "cell_type": "markdown",
      "metadata": {
        "id": "BwqKx-BL15h6"
      },
      "source": [
        "Emojis can be strings too!"
      ]
    },
    {
      "cell_type": "code",
      "execution_count": null,
      "metadata": {
        "id": "IjXQQiuW1_KK"
      },
      "outputs": [],
      "source": [
        "\"😃 I'm a string too! 😃\""
      ]
    },
    {
      "cell_type": "markdown",
      "metadata": {
        "id": "XsRzV6iH5S3F"
      },
      "source": [
        "## String Operations\n",
        "\n",
        "We can smush strings together through an operation called concatenation. The syntax for concatenation is the + symbol."
      ]
    },
    {
      "cell_type": "code",
      "execution_count": null,
      "metadata": {
        "colab": {
          "base_uri": "https://localhost:8080/",
          "height": 35
        },
        "id": "-7zVpvKT5efW",
        "outputId": "321f33a7-8f5c-42ae-8017-146d8c4bac80"
      },
      "outputs": [
        {
          "data": {
            "application/vnd.google.colaboratory.intrinsic+json": {
              "type": "string"
            },
            "text/plain": [
              "'Hello world!'"
            ]
          },
          "execution_count": 41,
          "metadata": {},
          "output_type": "execute_result"
        }
      ],
      "source": [
        "\"Hello \" + \"world!\""
      ]
    },
    {
      "cell_type": "markdown",
      "metadata": {
        "id": "ZZCtjNqh0W39"
      },
      "source": [
        "We can only concatenate strings with other strings. The following code will produce an error 😵‍💫"
      ]
    },
    {
      "cell_type": "code",
      "execution_count": null,
      "metadata": {
        "colab": {
          "base_uri": "https://localhost:8080/",
          "height": 166
        },
        "id": "5_LGtbmY0oZy",
        "outputId": "d6e24072-67fc-4062-c18d-54658c8588e7"
      },
      "outputs": [
        {
          "ename": "TypeError",
          "evalue": "ignored",
          "output_type": "error",
          "traceback": [
            "\u001b[0;31m---------------------------------------------------------------------------\u001b[0m",
            "\u001b[0;31mTypeError\u001b[0m                                 Traceback (most recent call last)",
            "\u001b[0;32m<ipython-input-4-cf7517a0306e>\u001b[0m in \u001b[0;36m<cell line: 1>\u001b[0;34m()\u001b[0m\n\u001b[0;32m----> 1\u001b[0;31m \u001b[0;34m\"I am \"\u001b[0m \u001b[0;34m+\u001b[0m \u001b[0;36m20\u001b[0m \u001b[0;34m+\u001b[0m \u001b[0;34m\" years old\"\u001b[0m\u001b[0;34m\u001b[0m\u001b[0;34m\u001b[0m\u001b[0m\n\u001b[0m",
            "\u001b[0;31mTypeError\u001b[0m: can only concatenate str (not \"int\") to str"
          ]
        }
      ],
      "source": [
        "\"I am \" + 20 + \"years old\""
      ]
    },
    {
      "cell_type": "markdown",
      "metadata": {
        "id": "a5Ugqo08uGa_"
      },
      "source": [
        "# Booleans\n",
        "\n",
        "A boolean has two possible values: `True` and `False`. Note that `True` and `False` are both capitalized. This is important!"
      ]
    },
    {
      "cell_type": "markdown",
      "metadata": {
        "id": "qpund9QO8sZ1"
      },
      "source": [
        "## Boolean Operations\n",
        "\n",
        "Booleans have three main operations: and, or, not.\n",
        "\n",
        "Below is what we call a truth table:\n",
        "\n",
        "![picture](https://qph.cf2.quoracdn.net/main-qimg-bc8139bb7744e28bd6a2512156cc3520)\n",
        "\n",
        "Booleans and truth tables can be a little confusing, so let's walk through an example in English.\n",
        "\n",
        "<blockquote>\n",
        "\n",
        "Let A be the statement my eyes are blue (true).\n",
        "\n",
        "Let B be the statment my hair is blonde (false).\n",
        "\n",
        "Is it true that my eyes are blue *and* my hair is blonde?\n",
        "\n",
        "Is it true that my eyes are blue *or* my hair is blonde?\n",
        "\n",
        "</blockquote>"
      ]
    },
    {
      "cell_type": "code",
      "execution_count": null,
      "metadata": {
        "colab": {
          "base_uri": "https://localhost:8080/"
        },
        "id": "XB3V89EmvdMv",
        "outputId": "d49c20a2-c7b6-408a-c27a-0b5af3be3c38"
      },
      "outputs": [
        {
          "data": {
            "text/plain": [
              "False"
            ]
          },
          "execution_count": 19,
          "metadata": {},
          "output_type": "execute_result"
        }
      ],
      "source": [
        "True and False\n",
        "True or False"
      ]
    },
    {
      "cell_type": "markdown",
      "metadata": {
        "id": "FRbcQ8kdux_I"
      },
      "source": [
        "# Checking Types\n",
        "\n",
        "If we're ever unsure about the type of a value, we can use the following trick.\n"
      ]
    },
    {
      "cell_type": "code",
      "execution_count": null,
      "metadata": {
        "colab": {
          "base_uri": "https://localhost:8080/"
        },
        "id": "tomr6lHSuz5f",
        "outputId": "188efb52-f79e-482b-d558-0fb7156b9352"
      },
      "outputs": [
        {
          "data": {
            "text/plain": [
              "float"
            ]
          },
          "execution_count": 4,
          "metadata": {},
          "output_type": "execute_result"
        }
      ],
      "source": [
        "type(1.0)\n",
        "type(2)\n",
        "type(\"hello\")\n",
        "type(True)"
      ]
    },
    {
      "cell_type": "markdown",
      "metadata": {
        "id": "rI-rLdlT9Oqo"
      },
      "source": [
        "`str` is short for string, `int` is short for integer, and `bool` is short for boolean."
      ]
    },
    {
      "cell_type": "markdown",
      "metadata": {
        "id": "QX8juEOfuNqz"
      },
      "source": [
        "# Converting Between Data Types\n",
        "\n",
        "What if I have the string `\"2\"` but I want to use it like an integer?"
      ]
    },
    {
      "cell_type": "markdown",
      "metadata": {
        "id": "xpIQs3iV2wZH"
      },
      "source": [
        "## String Conversion"
      ]
    },
    {
      "cell_type": "code",
      "execution_count": null,
      "metadata": {
        "colab": {
          "base_uri": "https://localhost:8080/",
          "height": 35
        },
        "id": "JbbbLCvFvejO",
        "outputId": "069dfed4-875e-4e6c-b6a6-db4d77499b0e"
      },
      "outputs": [
        {
          "data": {
            "application/vnd.google.colaboratory.intrinsic+json": {
              "type": "string"
            },
            "text/plain": [
              "'2.0'"
            ]
          },
          "execution_count": 22,
          "metadata": {},
          "output_type": "execute_result"
        }
      ],
      "source": [
        "str(True)\n",
        "str(2)\n",
        "str(2.0)"
      ]
    },
    {
      "cell_type": "markdown",
      "metadata": {
        "id": "gEEydeaH26h2"
      },
      "source": [
        "## Integer Conversion\n",
        "\n",
        "The integer representation of `True` is 1.\n",
        "\n",
        "The integer representation of `False` is 0."
      ]
    },
    {
      "cell_type": "code",
      "execution_count": null,
      "metadata": {
        "colab": {
          "base_uri": "https://localhost:8080/"
        },
        "id": "re5rKXve3Xef",
        "outputId": "cb38b8ad-6432-492f-8b6e-d88c7a650fb1"
      },
      "outputs": [
        {
          "data": {
            "text/plain": [
              "12"
            ]
          },
          "execution_count": 24,
          "metadata": {},
          "output_type": "execute_result"
        }
      ],
      "source": [
        "int(True)\n",
        "int(2.0)\n",
        "int(\"2\")"
      ]
    },
    {
      "cell_type": "markdown",
      "metadata": {
        "id": "GzvkHsK53oUk"
      },
      "source": [
        "Strings must be a valid integer.\n",
        "\n",
        "The following conversions will produce errors 😵‍💫"
      ]
    },
    {
      "cell_type": "code",
      "execution_count": null,
      "metadata": {
        "colab": {
          "base_uri": "https://localhost:8080/",
          "height": 201
        },
        "id": "oGnBXssr4HIY",
        "outputId": "dac89040-4a7e-4b33-e1b4-d1a764e718a2"
      },
      "outputs": [
        {
          "ename": "ValueError",
          "evalue": "ignored",
          "output_type": "error",
          "traceback": [
            "\u001b[0;31m---------------------------------------------------------------------------\u001b[0m",
            "\u001b[0;31mValueError\u001b[0m                                Traceback (most recent call last)",
            "\u001b[0;32m<ipython-input-27-261e9d4f4061>\u001b[0m in \u001b[0;36m<cell line: 1>\u001b[0;34m()\u001b[0m\n\u001b[0;32m----> 1\u001b[0;31m \u001b[0mint\u001b[0m\u001b[0;34m(\u001b[0m\u001b[0;34m\"hello\"\u001b[0m\u001b[0;34m)\u001b[0m\u001b[0;34m\u001b[0m\u001b[0;34m\u001b[0m\u001b[0m\n\u001b[0m\u001b[1;32m      2\u001b[0m \u001b[0mint\u001b[0m\u001b[0;34m(\u001b[0m\u001b[0;34m\"True\"\u001b[0m\u001b[0;34m)\u001b[0m\u001b[0;34m\u001b[0m\u001b[0;34m\u001b[0m\u001b[0m\n\u001b[1;32m      3\u001b[0m \u001b[0mint\u001b[0m\u001b[0;34m(\u001b[0m\u001b[0;34m\"1.0\"\u001b[0m\u001b[0;34m)\u001b[0m\u001b[0;34m\u001b[0m\u001b[0;34m\u001b[0m\u001b[0m\n",
            "\u001b[0;31mValueError\u001b[0m: invalid literal for int() with base 10: 'hello'"
          ]
        }
      ],
      "source": [
        "int(\"hello\")\n",
        "int(\"True\")\n",
        "int(\"1.0\")"
      ]
    },
    {
      "cell_type": "markdown",
      "metadata": {
        "id": "0O7VTX-d2Pxw"
      },
      "source": [
        "## Float Conversion\n",
        "\n",
        "The float representation of `True` is 1.0.\n",
        "\n",
        "The float representation of `False` is 0.0."
      ]
    },
    {
      "cell_type": "code",
      "execution_count": null,
      "metadata": {
        "colab": {
          "base_uri": "https://localhost:8080/"
        },
        "id": "MlO_zDgz4jEY",
        "outputId": "619c0ea9-2ea6-4019-bb46-8cf208679c48"
      },
      "outputs": [
        {
          "data": {
            "text/plain": [
              "2.0"
            ]
          },
          "execution_count": 28,
          "metadata": {},
          "output_type": "execute_result"
        }
      ],
      "source": [
        "float(True)\n",
        "float(2)\n",
        "float(\"2\")\n",
        "float(\"2.0\")"
      ]
    },
    {
      "cell_type": "markdown",
      "metadata": {
        "id": "YG3J4Jaq4yfz"
      },
      "source": [
        "## Boolean Conversion\n",
        "\n",
        "All non-zero integers and floats are converted to `True`.\n",
        "\n",
        "All non-empty strings are converted to `True`.\n"
      ]
    },
    {
      "cell_type": "code",
      "execution_count": null,
      "metadata": {
        "colab": {
          "base_uri": "https://localhost:8080/"
        },
        "id": "0RJt0eQ-5FLm",
        "outputId": "62ccdbad-2f5a-4b96-ae2e-5a8299546de9"
      },
      "outputs": [
        {
          "data": {
            "text/plain": [
              "False"
            ]
          },
          "execution_count": 6,
          "metadata": {},
          "output_type": "execute_result"
        }
      ],
      "source": [
        "bool(2)\n",
        "bool(2.0)\n",
        "bool(\"\")"
      ]
    },
    {
      "cell_type": "markdown",
      "metadata": {
        "id": "PUtnMj94vDpD"
      },
      "source": [
        "# Printing\n",
        "\n",
        "Printing is super easy in Python. Just use the following syntax (for any data type)."
      ]
    },
    {
      "cell_type": "code",
      "execution_count": null,
      "metadata": {
        "colab": {
          "base_uri": "https://localhost:8080/"
        },
        "id": "H0ejwcQGvfG-",
        "outputId": "28a9cca0-941e-4d84-bb55-aa60852c9ec2"
      },
      "outputs": [
        {
          "name": "stdout",
          "output_type": "stream",
          "text": [
            "Hello world\n",
            "1\n",
            "-0.12345\n",
            "True\n",
            "True\n"
          ]
        }
      ],
      "source": [
        "print(\"Hello world\")\n",
        "print(1)\n",
        "print(-0.12345)\n",
        "print(True)"
      ]
    },
    {
      "cell_type": "markdown",
      "metadata": {
        "id": "gCgLKFc83GUu"
      },
      "source": [
        "If we want to print multiple things on the same line, we can separate them with a comma. The comma automatically adds a space between items."
      ]
    },
    {
      "cell_type": "code",
      "execution_count": null,
      "metadata": {
        "colab": {
          "base_uri": "https://localhost:8080/"
        },
        "id": "xkkjywoC3N4e",
        "outputId": "e8587841-87db-427b-a8f1-aaf8f45457c5"
      },
      "outputs": [
        {
          "name": "stdout",
          "output_type": "stream",
          "text": [
            "Hello world 1 -0.12345 True\n"
          ]
        }
      ],
      "source": [
        "print(\"Hello world\", 1, -0.12345, True)"
      ]
    },
    {
      "cell_type": "markdown",
      "metadata": {
        "id": "jLseOysv1Eyb"
      },
      "source": [
        "# Comments\n",
        "\n",
        "Code is much easier to read when we add English explanations.\n",
        "\n",
        "We can add single line comments using the `#` symbol.\n",
        "\n",
        "We can add multi-line comments using `'''` before and after our block of text."
      ]
    },
    {
      "cell_type": "code",
      "execution_count": null,
      "metadata": {
        "id": "6XSttX3J6JBt"
      },
      "outputs": [],
      "source": [
        "# This is a single line comment\n",
        "\n",
        "'''\n",
        "This is a multi-line comment.\n",
        "Look how I can continue writing here.\n",
        "'''"
      ]
    },
    {
      "cell_type": "markdown",
      "metadata": {
        "id": "CINS38HW6Ym8"
      },
      "source": [
        "On PC, you can use the keys Ctrl + / to quickly add single line comments."
      ]
    },
    {
      "cell_type": "markdown",
      "metadata": {
        "id": "4Tk4cE02uToX"
      },
      "source": [
        "# Variables\n",
        "\n",
        "We can store and re-use our data by using variables.\n",
        "\n",
        "We use the `=` symbol to indicate assignment. `=` in coding has a different meaning than `=` in math❗\n",
        "\n",
        "We put our variable name on the left side of the `=` and our data that we want to store on the right side. See below."
      ]
    },
    {
      "cell_type": "code",
      "execution_count": null,
      "metadata": {
        "id": "wAUlLexEvfnb"
      },
      "outputs": [],
      "source": [
        "age = 10\n",
        "favColor = \"blue\"\n",
        "happy = True"
      ]
    },
    {
      "cell_type": "markdown",
      "metadata": {
        "id": "TwEZTFrz8JxN"
      },
      "source": [
        "Now we can use our variable name instead of the data itself."
      ]
    },
    {
      "cell_type": "code",
      "execution_count": null,
      "metadata": {
        "colab": {
          "base_uri": "https://localhost:8080/"
        },
        "id": "f5DclQik8V_w",
        "outputId": "0576c74a-425b-4a84-8f2d-cd4a4626686a"
      },
      "outputs": [
        {
          "name": "stdout",
          "output_type": "stream",
          "text": [
            "I am 10 years old\n"
          ]
        }
      ],
      "source": [
        "print(\"I am \" + str(age) + \" years old\")"
      ]
    },
    {
      "cell_type": "markdown",
      "metadata": {
        "id": "A4bz0S0s8hme"
      },
      "source": [
        "## Variable Names\n",
        "\n",
        "Variable names can include any letters, any numbers, and the underscore character (`_`).\n",
        "\n",
        "Variables cannot begin with numbers (`1var` is an invalid name).\n",
        "\n",
        "Variable names are case-sensitive (`age`, `Age` and `AGE` are three different variables)\n",
        "\n",
        "In Python, we usually use `camelCase` or `snake_case` to make variable names easy to read.\n"
      ]
    },
    {
      "cell_type": "markdown",
      "metadata": {
        "id": "24G7HLtZ9rCO"
      },
      "source": [
        "# Think 🤔\n",
        "\n",
        "Which of the following are good variable names? What kind of data does each variable store?"
      ]
    },
    {
      "cell_type": "code",
      "execution_count": null,
      "metadata": {
        "id": "RfgLjdD096lc"
      },
      "outputs": [],
      "source": [
        "favanimal = 'dog'\n",
        "favAnimal2 = \"cat\"\n",
        "3_fav_animal = \"bunny\"\n",
        "\n",
        "num = 12\n",
        "shoeSize = 7.5\n",
        "athletic = True\n",
        "_tall = \"False\""
      ]
    },
    {
      "cell_type": "markdown",
      "metadata": {
        "id": "GtfUWQHn_WlD"
      },
      "source": [
        "# Practice 👨‍💻\n",
        "\n",
        "1.   Make a variable to store your first name.\n",
        "2.   Make another variable to store the number of pets you have.\n",
        "3.   Use type convertion and concatenation to print the following sentence: `Hi my name is ___, and I have ___ pets`.\n",
        "\n"
      ]
    },
    {
      "cell_type": "code",
      "execution_count": null,
      "metadata": {
        "id": "I7tQx1SYyBl-"
      },
      "outputs": [],
      "source": [
        "# Write your code below\n",
        "\n",
        "name= \"Madeleine\"\n",
        "pets= 1\n",
        "# print(type(int(pets)))\n",
        "# print(\"and I have \" + int(pets))\n",
        "print(\"My name is \" + str(name) + \" and I have \" + str(pets) + \" pet\" )"
      ]
    },
    {
      "cell_type": "markdown",
      "metadata": {
        "id": "bQa-0KGTxlSG"
      },
      "source": [
        "# More Practice 👨‍💻\n",
        "\n",
        "1. Make a variable to store your favorite food.\n",
        "2. Add a single line comment just for fun :)\n",
        "3. Print the statement `My favorite food is ___`. Fill in the gap using the vairbale you created above."
      ]
    },
    {
      "cell_type": "code",
      "execution_count": 1,
      "metadata": {
        "id": "pkb_D1whAlwy"
      },
      "outputs": [],
      "source": [
        "# Write your code below\n",
        "\n",
        "fav_food= \"mango\" # made a variable called fav_food\n",
        "print(\"My favorite food is \" + str(fav_food))\n",
        "print(\"My favorite food is \" + fav_food)"
      ],
      "metadata": {
        "id": "I7tQx1SYyBl-",
        "outputId": "ffe23c3c-5ded-4101-9434-0453c36b247d",
        "colab": {
          "base_uri": "https://localhost:8080/"
        }
      },
      "execution_count": null,
      "outputs": [
        {
          "output_type": "stream",
          "name": "stdout",
          "text": [
            "My favorite food is mango\n",
            "My favorite food is mango\n"
          ]
        }
      ]
    },
    {
      "cell_type": "markdown",
      "metadata": {
        "id": "18JjE_-qHAmB"
      },
      "source": [
        "# Updating Variables\n",
        "\n",
        "Ages change over time. Luckily we can update our variable to reflect that!"
      ]
    },
    {
      "cell_type": "code",
      "execution_count": null,
      "metadata": {
        "colab": {
          "base_uri": "https://localhost:8080/"
        },
        "id": "MteGQ4UvI08y",
        "outputId": "75718394-3c82-4e63-844f-e85e98e88d6c"
      },
      "outputs": [
        {
          "name": "stdout",
          "output_type": "stream",
          "text": [
            "21\n"
          ]
        }
      ],
      "source": [
        "age = 20\n",
        "age = age + 1\n",
        "\n",
        "print(age)"
      ]
    },
    {
      "cell_type": "markdown",
      "metadata": {
        "id": "Pum8OhacJF9f"
      },
      "source": [
        "We evaluate the right hand side first, and then store the new value in the variable.\n",
        "\n",
        "Let's see a few more examples."
      ]
    },
    {
      "cell_type": "code",
      "execution_count": null,
      "metadata": {
        "colab": {
          "base_uri": "https://localhost:8080/"
        },
        "id": "H4Q2CnvOJUZ_",
        "outputId": "103c0354-3bcb-481d-82a1-1f918931addd"
      },
      "outputs": [
        {
          "name": "stdout",
          "output_type": "stream",
          "text": [
            "hello world\n",
            "0.5\n"
          ]
        }
      ],
      "source": [
        "var = \"hello\"\n",
        "var = var + \" world\"\n",
        "print(var)\n",
        "\n",
        "num = 1.0\n",
        "num = num / 2.0\n",
        "print(num)"
      ]
    },
    {
      "cell_type": "markdown",
      "metadata": {
        "id": "88MLH_csKJXl"
      },
      "source": [
        "We can also use these shorcuts!"
      ]
    },
    {
      "cell_type": "code",
      "execution_count": null,
      "metadata": {
        "colab": {
          "base_uri": "https://localhost:8080/"
        },
        "id": "2spVxkdpKYmk",
        "outputId": "28e2da55-bff6-4da8-a133-a2471c50b1be"
      },
      "outputs": [
        {
          "name": "stdout",
          "output_type": "stream",
          "text": [
            "0.5\n"
          ]
        }
      ],
      "source": [
        "var1 = \"hello\"\n",
        "var1 = var1 + \" world\"\n",
        "# is the same as\n",
        "var2 = \"hello\"\n",
        "var2 += \" world\"\n",
        "\n",
        "num1 = 1.0\n",
        "num1 = num1 / 2.0\n",
        "# is the same as\n",
        "num2 = 1.0\n",
        "num2 /= 2.0"
      ]
    },
    {
      "cell_type": "markdown",
      "metadata": {
        "id": "sW__L4fdxUwV"
      },
      "source": [
        "# Think 🤔\n",
        "\n",
        "How could I increment a variable, `x`, by 2?"
      ]
    },
    {
      "cell_type": "code",
      "source": [
        "x = 10\n",
        "x = x + 2\n",
        "x += 2\n",
        "x"
      ],
      "metadata": {
        "id": "XUD6R9nqr2PK",
        "outputId": "7a8d10a5-3b07-43ac-cf17-22f8f70a0dc9",
        "colab": {
          "base_uri": "https://localhost:8080/"
        }
      },
      "execution_count": null,
      "outputs": [
        {
          "output_type": "execute_result",
          "data": {
            "text/plain": [
              "14"
            ]
          },
          "metadata": {},
          "execution_count": 13
        }
      ]
    },
    {
      "cell_type": "markdown",
      "metadata": {
        "id": "4G__mC7SvXZq"
      },
      "source": [
        "# User Input\n",
        "\n",
        "Code is much more interesting when we can interact with the user.\n",
        "\n",
        "For example, my age is not the same as your age; My name is not the same as your name.\n",
        "\n",
        "Here's how we can get and store user input."
      ]
    },
    {
      "cell_type": "code",
      "execution_count": null,
      "metadata": {
        "colab": {
          "base_uri": "https://localhost:8080/"
        },
        "id": "2y3HH7SivgFW",
        "outputId": "5fb75b94-e6a9-4d25-9ca4-ac389aff542e"
      },
      "outputs": [
        {
          "name": "stdout",
          "output_type": "stream",
          "text": [
            "What is your name?\n",
            "Katie\n",
            "Hi Katie!\n"
          ]
        }
      ],
      "source": [
        "name = input(\"What is your name?\\n\")\n",
        "print(\"Hi \" + name + \"!\")"
      ]
    },
    {
      "cell_type": "markdown",
      "metadata": {
        "id": "mA_6ZVWtGE6C"
      },
      "source": [
        "Note the `\\n` characters after `\"What is your name?\"`.\n",
        "\n",
        "`\\n` is called a newline character. It isn't necessary, but it makes our interface look much cleaner.\n",
        "\n",
        "Here's what it looks like without the newline character:\n",
        "\n"
      ]
    },
    {
      "cell_type": "code",
      "execution_count": null,
      "metadata": {
        "colab": {
          "base_uri": "https://localhost:8080/"
        },
        "id": "lbghKC9mGh4C",
        "outputId": "7aed7eef-014f-4f0d-ce1f-4ba78fcf3ea9"
      },
      "outputs": [
        {
          "name": "stdout",
          "output_type": "stream",
          "text": [
            "What is your name?iytuvuyg\n",
            "Hi iytuvuyg!\n"
          ]
        }
      ],
      "source": [
        "name = input(\"What is your name?\")\n",
        "print(\"Hi \" + name + \"!\")"
      ]
    },
    {
      "cell_type": "markdown",
      "metadata": {
        "id": "blrouYU0Gqo8"
      },
      "source": [
        "You can also use `\\t` which stands for tab. It is useful for indentation."
      ]
    },
    {
      "cell_type": "code",
      "execution_count": null,
      "metadata": {
        "colab": {
          "base_uri": "https://localhost:8080/"
        },
        "id": "bFRTqZpMG5wf",
        "outputId": "82273cf6-09b0-4784-b1d6-db1e0c6997d4"
      },
      "outputs": [
        {
          "name": "stdout",
          "output_type": "stream",
          "text": [
            "What is your name?\tjh bm,ng \n",
            "Hi jh bm,ng !\n"
          ]
        }
      ],
      "source": [
        "name = input(\"What is your name?\\t\")\n",
        "print(\"Hi \" + name + \"!\")"
      ]
    },
    {
      "cell_type": "markdown",
      "metadata": {
        "id": "rrI9Ek-qDX3y"
      },
      "source": [
        "❗User input is always a string❗\n",
        "\n",
        "If we want to store/use a different data type (integer, float, or boolean), we'll first have to use data type conversion from earlier."
      ]
    },
    {
      "cell_type": "code",
      "source": [
        "hoursWorked = input(\"How many hours did you work today?\\n\")\n",
        "hourlyRate = input(\"How much money (in dollars) do you earn per hour?\\n\")\n",
        "\n",
        "print(type(hoursWorked))\n",
        "earnings = float(hoursWorked) * float(hourlyRate)\n",
        "\n",
        "print(\"Congrats! You earned\", earnings, \"dollars today.\")\n",
        "# You could also print the same statment this way\n",
        "print(\"Congrats! You earned \" + str(earnings) + \" dollars today.\")"
      ],
      "metadata": {
        "colab": {
          "base_uri": "https://localhost:8080/"
        },
        "id": "0sLaHbMYDfnT",
        "outputId": "6b04787b-354b-4a22-8121-f09aeb9454e3"
      },
      "outputs": [
        {
          "name": "stdout",
          "output_type": "stream",
          "text": [
            "How many hours did you work today?\n",
            "7\n",
            "How much money (in dollars) do you earn per hour?\n",
            "7\n",
            "<class 'str'>\n",
            "Congrats! You earned 49.0 dollars today.\n",
            "Congrats! You earned 49.0 dollars today.\n"
          ]
        }
      ],
      "source": [
        "hoursWorked = input(\"How many hours did you work today?\\n\")\n",
        "hourlyRate = input(\"How much money (in dollars) do you earn per hour?\\n\")\n",
        "\n",
        "earnings = float(hoursWorked) * float(hourlyRate)\n",
        "\n",
        "print(\"Congrats! You earned\", earnings, \"dollars today.\")\n",
        "# You could also print the same statment this way\n",
        "# print(\"Congrats! You earned \" + str(earnings) + \" dollars today.\")"
      ]
    },
    {
      "cell_type": "markdown",
      "metadata": {
        "id": "57GvKt239cnJ"
      },
      "source": [
        "# Practice 👨‍💻\n",
        "\n",
        "1.   Ask the user for their favorite number.\n",
        "2.   Add 5 to the number.\n",
        "3.   Print the increased number to the screen (optionally with a short message).\n",
        "\n"
      ]
    },
    {
      "cell_type": "code",
      "source": [
        "# Write your code below\n",
        "\n",
        "number= input(\"What is your favorite number?\\n\")\n",
        "number= int(number) + 5\n",
        "print(\"your favorite number plus 5 is \" + str(number))"
      ],
      "metadata": {
        "id": "1e3nMZsq-Q3X",
        "outputId": "57777a85-f154-4537-b9a1-414e97077a6c",
        "colab": {
          "base_uri": "https://localhost:8080/"
        }
      },
      "execution_count": null,
      "outputs": [
        {
          "output_type": "stream",
          "name": "stdout",
          "text": [
            "What is your favorite number?\n",
            "9\n",
            "your favorite number plus 5 is 14\n"
          ]
        }
      ]
    },
    {
      "cell_type": "markdown",
      "metadata": {
        "id": "U7ljzU1VzW4c"
      },
      "source": [
        "# More Practice 👨‍💻 ~ Mad Libs!\n",
        "\n",
        "1. In separate prompts, ask the user for a name, noun, and adjective.\n",
        "2. Fill in and print the following sentence: `Dear ___, you are my favorite __. You are so ___.`"
      ]
    },
    {
      "cell_type": "code",
      "source": [
        "# Write your code below\n",
        "\n",
        "noun=input(\"name a noun?\\n\")\n",
        "noun2=input(\"name another noun?\\n\")\n",
        "adjative=input(\"name an adjative?\\n\")\n",
        "print(\"Dear \"+ (noun) +\", you are my favorite \" + (noun2) +\". You are so \"+ (adjative) +\".\")"
      ],
      "metadata": {
        "id": "DU9OpLwazZ5f",
        "outputId": "964644b2-b6af-4987-dd51-601785b93ce8",
        "colab": {
          "base_uri": "https://localhost:8080/"
        }
      },
      "execution_count": null,
      "outputs": [
        {
          "output_type": "stream",
          "name": "stdout",
          "text": [
            "name a noun?\n",
            "Oscar\n",
            "name another noun?\n",
            "frog\n",
            "name an adjative?\n",
            "bad\n",
            "Dear Oscar, you are my favorite frog. You are so bad.\n"
          ]
        }
      ]
    },
    {
      "cell_type": "markdown",
      "metadata": {
        "id": "D15AVz090yfZ"
      },
      "source": [
        "# More More Practice\n",
        "\n",
        "1. Ask the user for a noun.\n",
        "2. Make the noun plural and print it (don't worry about irregular nouns that end in ch, sh)."
      ]
    },
    {
      "cell_type": "code",
      "source": [
        "# Write your code below\n",
        "\n",
        "noun=input(\"name a noun?\\n\")\n",
        "noun= noun+\"s\"\n",
        "print(noun)"
      ],
      "metadata": {
        "id": "Mmr6YdUNxFNu",
        "outputId": "976da7be-cf45-4509-91b1-624e4891f6b0",
        "colab": {
          "base_uri": "https://localhost:8080/"
        }
      },
      "execution_count": null,
      "outputs": [
        {
          "output_type": "stream",
          "name": "stdout",
          "text": [
            "name a noun?\n",
            "dog\n",
            "dogs\n"
          ]
        }
      ]
    },
    {
      "cell_type": "markdown",
      "metadata": {
        "id": "OkNj3IcZuexw"
      },
      "source": [
        "# Bonus: String Interpolation 🤩\n",
        "\n",
        "Sometimes we want to include non-string data in a sentence.\n",
        "\n",
        "For example, maybe we want to print the string \"I am 5 feet tall and 7 inches\" but 5 and 7 are integers stored in variables.\n",
        "\n",
        "We could convert the integers to strings and use concatenation, or we could also use string interpolation."
      ]
    },
    {
      "cell_type": "code",
      "execution_count": null,
      "metadata": {
        "colab": {
          "base_uri": "https://localhost:8080/"
        },
        "id": "W-N2JHoysgMI",
        "outputId": "cd84bdac-d417-4737-b96c-383232e0fa40"
      },
      "outputs": [
        {
          "name": "stdout",
          "output_type": "stream",
          "text": [
            "I am 5 feet tall and 7 inches\n"
          ]
        }
      ],
      "source": [
        "feet = 5\n",
        "inches = 7\n",
        "print(\"I am %i feet tall and %i inches\" % (feet, inches))"
      ]
    },
    {
      "cell_type": "markdown",
      "metadata": {
        "id": "b3g83Rqy4z00"
      },
      "source": [
        "We use `%i` as a placeholder to represent our integer and we specify what integer we want to use after the string.\n",
        "\n",
        "We can also use `%f` as a placeholder for floats and `%s` for strings and booleans."
      ]
    },
    {
      "cell_type": "code",
      "execution_count": null,
      "metadata": {
        "colab": {
          "base_uri": "https://localhost:8080/"
        },
        "id": "L5E1vg_D5a4D",
        "outputId": "657e0d14-dd4e-4f0e-cde8-107b11e1ff4b"
      },
      "outputs": [
        {
          "name": "stdout",
          "output_type": "stream",
          "text": [
            "Hello! My name is Katie :)\n",
            "It is True that Katie has blue eyes\n"
          ]
        }
      ],
      "source": [
        "name = \"Katie\"\n",
        "print(\"Hello! My name is %s :)\" % name)\n",
        "\n",
        "blueEyes = True\n",
        "print(\"It is %s that %s has blue eyes\" % (blueEyes, name))"
      ]
    },
    {
      "cell_type": "markdown",
      "metadata": {
        "id": "c0rlmzGu--tT"
      },
      "source": [
        "# Practice 👨‍💻\n",
        "\n",
        "Use string interpolation to fill in the following sentence with 3 adjectives to describe yourself: `I am ___, ___, and ___`."
      ]
    },
    {
      "cell_type": "code",
      "source": [
        "# Write your code below\n",
        "\n",
        "adjative1=\"athletic\"\n",
        "adjative2=\"artistic\"\n",
        "adjative3=\"happy\"\n",
        "print(\"I am \" + (adjative1) + \",\" + (adjative2) + \", and\" + (adjative3) + \".\")\n",
        "print(\"I am %s, %s,and %s.\" %(adjative1 ,adjative2, adjative3))"
      ],
      "metadata": {
        "id": "ajy6svY1yWlV",
        "outputId": "3cef7f84-c3ed-4b60-9b83-f92f29ca1bc0",
        "colab": {
          "base_uri": "https://localhost:8080/"
        }
      },
      "execution_count": null,
      "outputs": [
        {
          "output_type": "stream",
          "name": "stdout",
          "text": [
            "I am athletic,artistic, andhappy.\n",
            "I am athletic, artistic,and happy.\n"
          ]
        }
      ]
    },
    {
      "cell_type": "markdown",
      "metadata": {
        "id": "GuUVTAGBHOBM"
      },
      "source": [
        "# Review 💪\n",
        "\n",
        "Phew that was a lot of information. Here's what you should takeaway.\n",
        "\n",
        "*   What are the 4 basic data types?\n",
        "*   What operations can I use on each data type?\n",
        "*   How can I convert between different data types?\n",
        "*   How can I print information?\n",
        "*   How can I store and re-use pieces of data?\n",
        "*   How can I update variables?\n",
        "*   How can I gather user input?"
      ],
      "metadata": {
        "id": "GuUVTAGBHOBM"
      }
    },
    {
      "cell_type": "markdown",
      "source": [
        "# Warm-Up 7/18\n",
        "\n",
        "Repeat this practice from last time, except using string interpolation.\n",
        "\n",
        "1. In separate prompts, ask the user for a name, noun, and adjective.\n",
        "2. Fill in and print the following sentence: `Dear ___, you are my favorite __. You are so ___.`"
      ],
      "metadata": {
        "id": "Gz1s6UMvmnt-"
      }
    },
    {
      "cell_type": "code",
      "source": [
        "# Write your code below\n",
        "\n",
        "noun= input(\"name a noun\\n\")\n",
        "noun2= input(\"name a second noun\\n\")\n",
        "adjative= input(\"name a adjative\\n\")\n",
        "print(\"Dear %s, you are my favorite %s. You are so %s.\" %(noun, noun2, adjative))"
      ],
      "metadata": {
        "id": "3vAZX3Tomr3z",
        "outputId": "ed6f7cc3-cc60-4d02-ba1c-c3a6532de54f",
        "colab": {
          "base_uri": "https://localhost:8080/"
        }
      },
      "execution_count": 3,
      "outputs": [
        {
          "output_type": "stream",
          "name": "stdout",
          "text": [
            "name a noun\n",
            "Coco\n",
            "name a second noun\n",
            "cat\n",
            "name a adjative\n",
            "fluffy\n",
            "Dear Coco, you are my favorite cat. You are so fluffy.\n"
          ]
        }
      ]
    },
    {
      "cell_type": "markdown",
      "source": [
        "# More Practice Involving Numbers\n",
        "\n",
        "1. Ask the user for 2 numbers\n",
        "2. Add them together\n",
        "3. Print the result"
      ],
      "metadata": {
        "id": "SJuNeSEbpN7s"
      }
    },
    {
      "cell_type": "code",
      "source": [
        "# Write your code below\n",
        "\n",
        "number=input(\"give me a number\\n\")\n",
        "number2=input(\"give me another number\\n\")\n",
        "print(int(number) + int(number2))"
      ],
      "metadata": {
        "id": "b8fP0FbXpPDD",
        "outputId": "46a012f6-5159-4c2b-918a-3a267462cda0",
        "colab": {
          "base_uri": "https://localhost:8080/"
        }
      },
      "execution_count": 5,
      "outputs": [
        {
          "output_type": "stream",
          "name": "stdout",
          "text": [
            "give me a number\n",
            "5\n",
            "give me another number\n",
            "3\n",
            "8\n"
          ]
        }
      ]
    }
  ],
  "metadata": {
    "colab": {
      "authorship_tag": "ABX9TyN5Ubiw6R3CBzKAVys3xWi/",
      "include_colab_link": true,
      "provenance": []
    },
    "kernelspec": {
      "display_name": "Python 3",
      "name": "python3"
    },
    "language_info": {
      "name": "python"
    }
  },
  "nbformat": 4,
  "nbformat_minor": 0
}